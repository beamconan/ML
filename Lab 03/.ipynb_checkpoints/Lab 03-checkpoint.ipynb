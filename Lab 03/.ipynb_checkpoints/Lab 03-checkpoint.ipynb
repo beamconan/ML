{
 "cells": [
  {
   "cell_type": "markdown",
   "metadata": {},
   "source": [
    "# ตอนที่ 1: การทดลองเตรียมข้อมูล ปรับค่าข้อมูล และจัดแบ่งชุด Train, Test เพื่อสอนโมเดล"
   ]
  },
  {
   "cell_type": "markdown",
   "metadata": {},
   "source": [
    "1.1 Import Lib (numpy, pandas, matplotlib, sklearn, keras)"
   ]
  },
  {
   "cell_type": "code",
   "execution_count": 1,
   "metadata": {},
   "outputs": [
    {
     "name": "stderr",
     "output_type": "stream",
     "text": [
      "Using TensorFlow backend.\n"
     ]
    }
   ],
   "source": [
    "import numpy as np\n",
    "import pandas as pd\n",
    "import matplotlib.pyplot as plt\n",
    "import keras\n",
    "from sklearn import model_selection\n",
    "from sklearn import preprocessing\n",
    "import seaborn as sns"
   ]
  },
  {
   "cell_type": "markdown",
   "metadata": {},
   "source": [
    "1.2 โหลดข้อมูล Timeseries Dataset file"
   ]
  },
  {
   "cell_type": "code",
   "execution_count": 2,
   "metadata": {},
   "outputs": [],
   "source": [
    "df_Beijing = pd.read_csv('BeijingPM20100101_20151231.csv')\n",
    "df_Chengdu = pd.read_csv('ChengduPM20100101_20151231.csv')\n",
    "df_Guangzhou = pd.read_csv('GuangzhouPM20100101_20151231.csv')\n",
    "df_Shanghai = pd.read_csv('ShanghaiPM20100101_20151231.csv')\n",
    "df_Shenyang = pd.read_csv('ShenyangPM20100101_20151231.csv')"
   ]
  },
  {
   "cell_type": "markdown",
   "metadata": {},
   "source": [
    "1.3 Preprocess data"
   ]
  },
  {
   "cell_type": "markdown",
   "metadata": {},
   "source": [
    "    1.3.1 Cleaning : Clear Missing and Duplicate data, Resampling and interpolated data, Moving average (Rolling window)"
   ]
  },
  {
   "cell_type": "code",
   "execution_count": null,
   "metadata": {},
   "outputs": [],
   "source": [
    "def clear_missing_and_duplicate_data(df):\n",
    "    col=['year','month','day','hour','HUMI','PRES','Iws','Iprec','PM_US Post']\n",
    "    df = pd.DataFrame(df_data,columns=col)\n",
    "    \n",
    "    df['Date'] = pd.to_datetime(df[['year','month','day','hour']])\n",
    "    \n",
    "    df = df[['Date','HUMI','PRES','Iws','Iprec','PM_US Post']]\n",
    "    df.sort_values('Date', inplace=True)"
   ]
  }
 ],
 "metadata": {
  "kernelspec": {
   "display_name": "Python 3",
   "language": "python",
   "name": "python3"
  },
  "language_info": {
   "codemirror_mode": {
    "name": "ipython",
    "version": 3
   },
   "file_extension": ".py",
   "mimetype": "text/x-python",
   "name": "python",
   "nbconvert_exporter": "python",
   "pygments_lexer": "ipython3",
   "version": "3.7.4"
  }
 },
 "nbformat": 4,
 "nbformat_minor": 2
}
