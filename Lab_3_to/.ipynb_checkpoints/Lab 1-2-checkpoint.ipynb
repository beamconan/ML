{
 "cells": [
  {
   "cell_type": "markdown",
   "metadata": {},
   "source": [
    "# ตอนที่ 2: การทดลองการลดมิติของข้อมูลด้วยค่า Principle Component Analysis"
   ]
  },
  {
   "cell_type": "markdown",
   "metadata": {},
   "source": [
    "- Import Library"
   ]
  },
  {
   "cell_type": "code",
   "execution_count": 1,
   "metadata": {},
   "outputs": [],
   "source": [
    "import numpy as np\n",
    "import pandas as pd\n",
    "from matplotlib import pyplot as plt\n",
    "import seaborn as sns\n",
    "from scipy import stats\n",
    "from mpl_toolkits.mplot3d import axes3d, Axes3D\n",
    "\n",
    "%matplotlib inline"
   ]
  },
  {
   "cell_type": "markdown",
   "metadata": {},
   "source": [
    "- Read Data File"
   ]
  },
  {
   "cell_type": "code",
   "execution_count": 2,
   "metadata": {},
   "outputs": [],
   "source": [
    "df = pd.read_csv('watch_test2_sample.csv')\n",
    "df['uts'] = pd.to_datetime(df['uts'])\n",
    "df.sort_values('uts', inplace=True)\n",
    "df.set_index('uts', inplace=True)"
   ]
  },
  {
   "cell_type": "code",
   "execution_count": 3,
   "metadata": {},
   "outputs": [],
   "source": [
    "df[df.columns[1:]] = df[df.columns[1:]].apply(pd.to_numeric, errors='coerce')\n",
    "df_missing = df.fillna(df.median()) # จัดการข้อมูลหาย แทนที่ด้วย median\n",
    "df_drop_dup = df_missing.drop_duplicates() # จัดการข้อมูลซ้ำซ้อน โดย ตัดทิ้ง "
   ]
  },
  {
   "cell_type": "code",
   "execution_count": 4,
   "metadata": {},
   "outputs": [
    {
     "name": "stderr",
     "output_type": "stream",
     "text": [
      "C:\\Users\\beamconan\\Anaconda3\\lib\\site-packages\\pandas\\core\\indexing.py:494: SettingWithCopyWarning: \n",
      "A value is trying to be set on a copy of a slice from a DataFrame.\n",
      "Try using .loc[row_indexer,col_indexer] = value instead\n",
      "\n",
      "See the caveats in the documentation: http://pandas.pydata.org/pandas-docs/stable/user_guide/indexing.html#returning-a-view-versus-a-copy\n",
      "  self.obj[item] = s\n",
      "C:\\Users\\beamconan\\Anaconda3\\lib\\site-packages\\pandas\\core\\indexing.py:205: SettingWithCopyWarning: \n",
      "A value is trying to be set on a copy of a slice from a DataFrame\n",
      "\n",
      "See the caveats in the documentation: http://pandas.pydata.org/pandas-docs/stable/user_guide/indexing.html#returning-a-view-versus-a-copy\n",
      "  self._setitem_with_indexer(indexer, value)\n",
      "C:\\Users\\beamconan\\Anaconda3\\lib\\site-packages\\ipykernel_launcher.py:5: SettingWithCopyWarning: \n",
      "A value is trying to be set on a copy of a slice from a DataFrame\n",
      "\n",
      "See the caveats in the documentation: http://pandas.pydata.org/pandas-docs/stable/user_guide/indexing.html#returning-a-view-versus-a-copy\n",
      "  \"\"\"\n"
     ]
    }
   ],
   "source": [
    "# Remove outlier\n",
    "list_remove_outlier = ['compass','heartrate','light','pressure']\n",
    "threshold = 3\n",
    "for li in list_remove_outlier:\n",
    "    df_drop_dup.iloc[np.abs(stats.zscore(df_drop_dup[li])) > 3,df_drop_dup.columns.get_loc(li)] = df_drop_dup[li].median()"
   ]
  },
  {
   "cell_type": "code",
   "execution_count": 5,
   "metadata": {},
   "outputs": [
    {
     "data": {
      "text/html": [
       "<div>\n",
       "<style scoped>\n",
       "    .dataframe tbody tr th:only-of-type {\n",
       "        vertical-align: middle;\n",
       "    }\n",
       "\n",
       "    .dataframe tbody tr th {\n",
       "        vertical-align: top;\n",
       "    }\n",
       "\n",
       "    .dataframe thead th {\n",
       "        text-align: right;\n",
       "    }\n",
       "</style>\n",
       "<table border=\"1\" class=\"dataframe\">\n",
       "  <thead>\n",
       "    <tr style=\"text-align: right;\">\n",
       "      <th></th>\n",
       "      <th>accelerateX</th>\n",
       "      <th>accelerateY</th>\n",
       "      <th>accelerateZ</th>\n",
       "    </tr>\n",
       "    <tr>\n",
       "      <th>uts</th>\n",
       "      <th></th>\n",
       "      <th></th>\n",
       "      <th></th>\n",
       "    </tr>\n",
       "  </thead>\n",
       "  <tbody>\n",
       "    <tr>\n",
       "      <td>2018-11-18 08:18:41+07:00</td>\n",
       "      <td>-3.957379</td>\n",
       "      <td>-14.204506</td>\n",
       "      <td>2.303692</td>\n",
       "    </tr>\n",
       "    <tr>\n",
       "      <td>2018-11-18 08:19:03+07:00</td>\n",
       "      <td>-0.038236</td>\n",
       "      <td>-1.156625</td>\n",
       "      <td>1.883101</td>\n",
       "    </tr>\n",
       "    <tr>\n",
       "      <td>2018-11-18 08:19:45+07:00</td>\n",
       "      <td>1.906998</td>\n",
       "      <td>-3.651495</td>\n",
       "      <td>-4.358852</td>\n",
       "    </tr>\n",
       "    <tr>\n",
       "      <td>2018-11-18 08:20:13+07:00</td>\n",
       "      <td>-0.265259</td>\n",
       "      <td>-10.149148</td>\n",
       "      <td>3.042116</td>\n",
       "    </tr>\n",
       "    <tr>\n",
       "      <td>2018-11-18 08:20:33+07:00</td>\n",
       "      <td>-2.098175</td>\n",
       "      <td>-11.195846</td>\n",
       "      <td>1.754056</td>\n",
       "    </tr>\n",
       "    <tr>\n",
       "      <td>...</td>\n",
       "      <td>...</td>\n",
       "      <td>...</td>\n",
       "      <td>...</td>\n",
       "    </tr>\n",
       "    <tr>\n",
       "      <td>2018-11-18 16:07:32+07:00</td>\n",
       "      <td>4.803340</td>\n",
       "      <td>0.050184</td>\n",
       "      <td>-8.263658</td>\n",
       "    </tr>\n",
       "    <tr>\n",
       "      <td>2018-11-18 16:07:58+07:00</td>\n",
       "      <td>1.780343</td>\n",
       "      <td>-6.609970</td>\n",
       "      <td>2.081448</td>\n",
       "    </tr>\n",
       "    <tr>\n",
       "      <td>2018-11-18 16:08:19+07:00</td>\n",
       "      <td>0.399084</td>\n",
       "      <td>-8.364026</td>\n",
       "      <td>-5.357756</td>\n",
       "    </tr>\n",
       "    <tr>\n",
       "      <td>2018-11-18 16:08:42+07:00</td>\n",
       "      <td>0.745593</td>\n",
       "      <td>-8.820463</td>\n",
       "      <td>-5.106835</td>\n",
       "    </tr>\n",
       "    <tr>\n",
       "      <td>2018-11-18 16:09:04+07:00</td>\n",
       "      <td>0.480334</td>\n",
       "      <td>-8.700976</td>\n",
       "      <td>-4.669516</td>\n",
       "    </tr>\n",
       "  </tbody>\n",
       "</table>\n",
       "<p>271 rows × 3 columns</p>\n",
       "</div>"
      ],
      "text/plain": [
       "                           accelerateX  accelerateY  accelerateZ\n",
       "uts                                                             \n",
       "2018-11-18 08:18:41+07:00    -3.957379   -14.204506     2.303692\n",
       "2018-11-18 08:19:03+07:00    -0.038236    -1.156625     1.883101\n",
       "2018-11-18 08:19:45+07:00     1.906998    -3.651495    -4.358852\n",
       "2018-11-18 08:20:13+07:00    -0.265259   -10.149148     3.042116\n",
       "2018-11-18 08:20:33+07:00    -2.098175   -11.195846     1.754056\n",
       "...                                ...          ...          ...\n",
       "2018-11-18 16:07:32+07:00     4.803340     0.050184    -8.263658\n",
       "2018-11-18 16:07:58+07:00     1.780343    -6.609970     2.081448\n",
       "2018-11-18 16:08:19+07:00     0.399084    -8.364026    -5.357756\n",
       "2018-11-18 16:08:42+07:00     0.745593    -8.820463    -5.106835\n",
       "2018-11-18 16:09:04+07:00     0.480334    -8.700976    -4.669516\n",
       "\n",
       "[271 rows x 3 columns]"
      ]
     },
     "execution_count": 5,
     "metadata": {},
     "output_type": "execute_result"
    }
   ],
   "source": [
    "df_new = df_drop_dup[['accelerateX', 'accelerateY', 'accelerateZ']].copy()\n",
    "df_new"
   ]
  },
  {
   "cell_type": "markdown",
   "metadata": {},
   "source": [
    "2.1 เตรียมชุดข้อมูล feature 3 ค่า 𝑥(accelerateX, accelerateY, accelerateZ)"
   ]
  },
  {
   "cell_type": "markdown",
   "metadata": {},
   "source": [
    "- ปรับให้เป็น zero mean"
   ]
  },
  {
   "cell_type": "code",
   "execution_count": 6,
   "metadata": {},
   "outputs": [],
   "source": [
    "df_X_zero_mean = df_new - df_new.mean() "
   ]
  },
  {
   "cell_type": "code",
   "execution_count": 7,
   "metadata": {},
   "outputs": [
    {
     "data": {
      "text/html": [
       "<div>\n",
       "<style scoped>\n",
       "    .dataframe tbody tr th:only-of-type {\n",
       "        vertical-align: middle;\n",
       "    }\n",
       "\n",
       "    .dataframe tbody tr th {\n",
       "        vertical-align: top;\n",
       "    }\n",
       "\n",
       "    .dataframe thead th {\n",
       "        text-align: right;\n",
       "    }\n",
       "</style>\n",
       "<table border=\"1\" class=\"dataframe\">\n",
       "  <thead>\n",
       "    <tr style=\"text-align: right;\">\n",
       "      <th></th>\n",
       "      <th>accelerateX</th>\n",
       "      <th>accelerateY</th>\n",
       "      <th>accelerateZ</th>\n",
       "    </tr>\n",
       "    <tr>\n",
       "      <th>uts</th>\n",
       "      <th></th>\n",
       "      <th></th>\n",
       "      <th></th>\n",
       "    </tr>\n",
       "  </thead>\n",
       "  <tbody>\n",
       "    <tr>\n",
       "      <td>2018-11-18 08:18:41+07:00</td>\n",
       "      <td>-5.626154</td>\n",
       "      <td>-9.821439</td>\n",
       "      <td>-1.597436</td>\n",
       "    </tr>\n",
       "    <tr>\n",
       "      <td>2018-11-18 08:19:03+07:00</td>\n",
       "      <td>-1.707011</td>\n",
       "      <td>3.226442</td>\n",
       "      <td>-2.018027</td>\n",
       "    </tr>\n",
       "    <tr>\n",
       "      <td>2018-11-18 08:19:45+07:00</td>\n",
       "      <td>0.238223</td>\n",
       "      <td>0.731572</td>\n",
       "      <td>-8.259980</td>\n",
       "    </tr>\n",
       "    <tr>\n",
       "      <td>2018-11-18 08:20:13+07:00</td>\n",
       "      <td>-1.934034</td>\n",
       "      <td>-5.766081</td>\n",
       "      <td>-0.859012</td>\n",
       "    </tr>\n",
       "    <tr>\n",
       "      <td>2018-11-18 08:20:33+07:00</td>\n",
       "      <td>-3.766951</td>\n",
       "      <td>-6.812779</td>\n",
       "      <td>-2.147072</td>\n",
       "    </tr>\n",
       "    <tr>\n",
       "      <td>...</td>\n",
       "      <td>...</td>\n",
       "      <td>...</td>\n",
       "      <td>...</td>\n",
       "    </tr>\n",
       "    <tr>\n",
       "      <td>2018-11-18 16:07:32+07:00</td>\n",
       "      <td>3.134565</td>\n",
       "      <td>4.433251</td>\n",
       "      <td>-12.164786</td>\n",
       "    </tr>\n",
       "    <tr>\n",
       "      <td>2018-11-18 16:07:58+07:00</td>\n",
       "      <td>0.111567</td>\n",
       "      <td>-2.226903</td>\n",
       "      <td>-1.819680</td>\n",
       "    </tr>\n",
       "    <tr>\n",
       "      <td>2018-11-18 16:08:19+07:00</td>\n",
       "      <td>-1.269692</td>\n",
       "      <td>-3.980959</td>\n",
       "      <td>-9.258884</td>\n",
       "    </tr>\n",
       "    <tr>\n",
       "      <td>2018-11-18 16:08:42+07:00</td>\n",
       "      <td>-0.923182</td>\n",
       "      <td>-4.437396</td>\n",
       "      <td>-9.007963</td>\n",
       "    </tr>\n",
       "    <tr>\n",
       "      <td>2018-11-18 16:09:04+07:00</td>\n",
       "      <td>-1.188441</td>\n",
       "      <td>-4.317909</td>\n",
       "      <td>-8.570644</td>\n",
       "    </tr>\n",
       "  </tbody>\n",
       "</table>\n",
       "<p>271 rows × 3 columns</p>\n",
       "</div>"
      ],
      "text/plain": [
       "                           accelerateX  accelerateY  accelerateZ\n",
       "uts                                                             \n",
       "2018-11-18 08:18:41+07:00    -5.626154    -9.821439    -1.597436\n",
       "2018-11-18 08:19:03+07:00    -1.707011     3.226442    -2.018027\n",
       "2018-11-18 08:19:45+07:00     0.238223     0.731572    -8.259980\n",
       "2018-11-18 08:20:13+07:00    -1.934034    -5.766081    -0.859012\n",
       "2018-11-18 08:20:33+07:00    -3.766951    -6.812779    -2.147072\n",
       "...                                ...          ...          ...\n",
       "2018-11-18 16:07:32+07:00     3.134565     4.433251   -12.164786\n",
       "2018-11-18 16:07:58+07:00     0.111567    -2.226903    -1.819680\n",
       "2018-11-18 16:08:19+07:00    -1.269692    -3.980959    -9.258884\n",
       "2018-11-18 16:08:42+07:00    -0.923182    -4.437396    -9.007963\n",
       "2018-11-18 16:09:04+07:00    -1.188441    -4.317909    -8.570644\n",
       "\n",
       "[271 rows x 3 columns]"
      ]
     },
     "execution_count": 7,
     "metadata": {},
     "output_type": "execute_result"
    }
   ],
   "source": [
    "df_X_zero_mean"
   ]
  },
  {
   "cell_type": "code",
   "execution_count": 8,
   "metadata": {},
   "outputs": [],
   "source": [
    "X_zero_mean = df_X_zero_mean.to_numpy()"
   ]
  },
  {
   "cell_type": "markdown",
   "metadata": {},
   "source": [
    "- คำนวณค่า covariance matrix ของชุดข้อมูล Xnorm [ np.T, np.dot() ]"
   ]
  },
  {
   "cell_type": "code",
   "execution_count": 9,
   "metadata": {},
   "outputs": [
    {
     "data": {
      "text/plain": [
       "array([[25.45163614,  3.15057202, -1.83302476],\n",
       "       [ 3.15057202, 23.15228521,  7.0039553 ],\n",
       "       [-1.83302476,  7.0039553 , 19.53693618]])"
      ]
     },
     "execution_count": 9,
     "metadata": {},
     "output_type": "execute_result"
    }
   ],
   "source": [
    "cov = X_zero_mean.T.dot(X_zero_mean)/(len(X_zero_mean)-1)\n",
    "cov"
   ]
  },
  {
   "cell_type": "markdown",
   "metadata": {},
   "source": [
    "2.2 คำนวณค่า eigenvalue / eigenvector จาก covariance matrix ที่คำนวณได้จากข้อ 2.1 [ np.linalg.eig(covM) ]"
   ]
  },
  {
   "cell_type": "code",
   "execution_count": 10,
   "metadata": {},
   "outputs": [
    {
     "data": {
      "text/plain": [
       "(array([13.17228949, 25.76556812, 29.20299993]),\n",
       " array([[ 0.26766696, -0.87017416,  0.4137044 ],\n",
       "        [-0.60867685,  0.18013242,  0.77269968],\n",
       "        [ 0.74690487,  0.45863847,  0.48143937]]))"
      ]
     },
     "execution_count": 10,
     "metadata": {},
     "output_type": "execute_result"
    }
   ],
   "source": [
    "eigenvalue, eigenvector = np.linalg.eig(cov)\n",
    "eigenvalue, eigenvector"
   ]
  },
  {
   "cell_type": "markdown",
   "metadata": {},
   "source": [
    "2.3 แสดงกราฟ Eigen Space (Eigenvalue, Eigenvector)\n",
    "    - แสดงกราฟแท่ง (Bar graph) ของค่า Eigenvalue ที่จัดเรียงค่าจากมากไปน้อย"
   ]
  },
  {
   "cell_type": "code",
   "execution_count": 11,
   "metadata": {},
   "outputs": [
    {
     "data": {
      "text/plain": [
       "(array([29.20299993, 25.76556812, 13.17228949]),\n",
       " array([[ 0.4137044 , -0.87017416,  0.26766696],\n",
       "        [ 0.77269968,  0.18013242, -0.60867685],\n",
       "        [ 0.48143937,  0.45863847,  0.74690487]]))"
      ]
     },
     "execution_count": 11,
     "metadata": {},
     "output_type": "execute_result"
    }
   ],
   "source": [
    "sort_index = np.argsort(eigenvalue)[::-1]\n",
    "eigenvalue = eigenvalue[sort_index]\n",
    "eigenvector = eigenvector[:,sort_index]\n",
    "eigenvalue, eigenvector"
   ]
  },
  {
   "cell_type": "code",
   "execution_count": 12,
   "metadata": {},
   "outputs": [
    {
     "data": {
      "text/plain": [
       "<BarContainer object of 3 artists>"
      ]
     },
     "execution_count": 12,
     "metadata": {},
     "output_type": "execute_result"
    },
    {
     "data": {
      "image/png": "[encoded data removed]",
      "text/plain": [
       "<Figure size 432x288 with 1 Axes>"
      ]
     },
     "metadata": {
      "needs_background": "light"
     },
     "output_type": "display_data"
    }
   ],
   "source": [
    "plt.bar(np.arange(len(eigenvalue)),eigenvalue)"
   ]
  },
  {
   "cell_type": "markdown",
   "metadata": {},
   "source": [
    "    - แสดงปรับขนาดของ Eigenvector ด้วยค่า Eigenvalue"
   ]
  },
  {
   "cell_type": "code",
   "execution_count": 14,
   "metadata": {},
   "outputs": [
    {
     "data": {
      "text/plain": [
       "(array([2.23565033, 4.17565364, 2.60168872]),\n",
       " array([-4.41698621,  0.91434849,  2.32803948]),\n",
       " array([ 0.97146106, -2.20911039,  2.71079032]))"
      ]
     },
     "execution_count": 14,
     "metadata": {},
     "output_type": "execute_result"
    }
   ],
   "source": [
    "ev1 = eigenvector[:,0]*np.sqrt(eigenvalue[0])\n",
    "ev2 = eigenvector[:,1]*np.sqrt(eigenvalue[1])\n",
    "ev3 = eigenvector[:,2]*np.sqrt(eigenvalue[2])\n",
    "ev1,ev2,ev3"
   ]
  },
  {
   "cell_type": "markdown",
   "metadata": {},
   "source": [
    "    - แสดงกราฟความสัมพันธ์ของ feature และ eigen vector"
   ]
  },
  {
   "cell_type": "code",
   "execution_count": 15,
   "metadata": {},
   "outputs": [
    {
     "data": {
      "image/png": "[encoded data removed]",
      "text/plain": [
       "<Figure size 1440x576 with 1 Axes>"
      ]
     },
     "metadata": {
      "needs_background": "light"
     },
     "output_type": "display_data"
    }
   ],
   "source": [
    "w = 20\n",
    "h = 8\n",
    "fig = plt.figure(figsize=(w,h))\n",
    "\n",
    "x,y,z = X_zero_mean[:,0], X_zero_mean[:,1], X_zero_mean[:,2]\n",
    "ax = fig.add_subplot(1,2,1,projection='3d')\n",
    "\n",
    "ax.plot(X_zero_mean[:,0], X_zero_mean[:,1], X_zero_mean[:,2],'o',markersize=10,color='green',alpha=0.2)\n",
    "\n",
    "ax.plot([df_new['accelerateX'].mean()], [df_new['accelerateY'].mean()], [df_new['accelerateZ'].mean()],'o',markersize=10,color='red',alpha=0.5)\n",
    "\n",
    "ax.plot([0,ev1[0]], [0,ev1[1]], [0,ev1[2]],color='red',alpha=0.8 ,lw=2)\n",
    "ax.plot([0,ev2[0]], [0,ev2[1]], [0,ev2[2]],color='violet',alpha=0.8 ,lw=2)\n",
    "ax.plot([0,ev3[0]], [0,ev3[1]], [0,ev3[2]],color='cyan',alpha=0.8 ,lw=2)\n",
    "\n",
    "\n",
    "ax.set_title('Eigenvectors')\n",
    "ax.set_xlabel('x_values')\n",
    "ax.set_ylabel('y_values')\n",
    "ax.set_zlabel('z_values')\n",
    "\n",
    "ax.view_init(10,60)\n",
    "\n",
    "plt.show()"
   ]
  },
  {
   "cell_type": "markdown",
   "metadata": {},
   "source": [
    "2.4 ทำ PCA เพื่อลดข้อมูลจาก 3D -> 2D"
   ]
  },
  {
   "cell_type": "code",
   "execution_count": 16,
   "metadata": {},
   "outputs": [
    {
     "data": {
      "text/plain": [
       "array([[-1.06856564e+01,  2.39392864e+00],\n",
       "       [ 8.15314736e-01,  1.14103844e+00],\n",
       "       [-3.31284033e+00, -3.86386007e+00],\n",
       "       [-5.66912986e+00,  2.50312493e-01],\n",
       "       [-7.85632144e+00,  1.06597085e+00],\n",
       "       [-9.46554037e+00,  9.12091720e+00],\n",
       "       [ 2.98658976e+00, -2.98041542e+00],\n",
       "       [-1.07976612e+01,  1.75781406e+01],\n",
       "       [-5.18076916e+00,  9.62497879e+00],\n",
       "       [-4.61529138e+00,  7.42023919e-01],\n",
       "       [-1.03563592e-01,  1.56130140e+00],\n",
       "       [-5.70210490e+00,  6.36380414e+00],\n",
       "       [ 2.18861323e+00,  3.39007653e-01],\n",
       "       [-4.04295105e+00, -4.90306380e-01],\n",
       "       [ 6.94285650e+00, -3.15484567e+00],\n",
       "       [-2.49035587e+00,  6.68497366e+00],\n",
       "       [-7.39765639e+00,  1.65538717e+01],\n",
       "       [-1.35091181e+00,  1.36453874e+01],\n",
       "       [-3.81056708e+00,  9.19199616e+00],\n",
       "       [-4.91117244e+00, -3.60677060e+00],\n",
       "       [-3.80354100e+00, -1.92056298e+00],\n",
       "       [ 8.12667947e-01, -2.81183715e-01],\n",
       "       [-1.48005555e+00,  2.54051066e+00],\n",
       "       [-2.62024998e+00,  4.68538689e-01],\n",
       "       [-2.62024998e+00,  4.68538689e-01],\n",
       "       [-1.55461036e+01,  4.58687186e+00],\n",
       "       [-1.92930117e+01,  3.86296725e+00],\n",
       "       [-6.72657882e+00,  7.94011978e+00],\n",
       "       [-4.43294073e+00,  5.52390522e-01],\n",
       "       [-2.87021266e+00,  1.75457304e+00],\n",
       "       [-7.42124006e+00,  2.84517416e+00],\n",
       "       [-4.28560597e+00,  1.45001503e+01],\n",
       "       [-1.34060459e+01, -2.31490427e+00],\n",
       "       [-2.98146961e+00, -1.18909312e-01],\n",
       "       [-9.63729805e+00,  1.46224974e+01],\n",
       "       [-4.70261072e+00,  1.21330251e+01],\n",
       "       [ 6.64000688e+00,  1.96420656e+00],\n",
       "       [ 5.63041419e+00,  3.31911305e+00],\n",
       "       [ 5.58941297e+00,  3.51671627e+00],\n",
       "       [ 4.94949010e+00,  3.46930833e+00],\n",
       "       [ 5.81421169e+00,  2.71580500e+00],\n",
       "       [ 6.41153201e+00,  3.30135314e+00],\n",
       "       [ 6.61992688e+00,  3.57361272e+00],\n",
       "       [ 6.80589152e+00,  3.64253273e+00],\n",
       "       [ 6.71778525e+00,  3.67508214e+00],\n",
       "       [ 8.09670656e+00,  4.46683490e+00],\n",
       "       [ 5.07211255e+00,  1.07271417e+00],\n",
       "       [ 2.19763323e+00,  1.07074906e+01],\n",
       "       [ 7.91721658e+00,  5.25419865e+00],\n",
       "       [-1.83610257e+00,  9.87741519e+00],\n",
       "       [-2.15133263e+00,  9.75662444e+00],\n",
       "       [-2.32212667e+00,  9.80633678e+00],\n",
       "       [ 7.73389758e+00,  3.24930238e+00],\n",
       "       [ 7.33933524e+00,  2.98286131e+00],\n",
       "       [ 7.06960508e+00,  3.18224459e+00],\n",
       "       [ 7.00387444e+00,  3.17411915e+00],\n",
       "       [-3.07294360e+00, -2.36979732e+00],\n",
       "       [ 4.26497523e+00,  2.62640615e+00],\n",
       "       [ 4.57935730e+00,  2.60142353e+00],\n",
       "       [ 6.92648427e+00, -6.54934283e+00],\n",
       "       [ 5.86030512e+00,  3.83491221e+00],\n",
       "       [ 6.17228636e+00,  3.70492197e+00],\n",
       "       [-2.07865297e+00, -3.35135881e+00],\n",
       "       [ 8.73279721e+00, -4.17313821e+00],\n",
       "       [-5.54268504e+00, -3.17514950e+00],\n",
       "       [ 6.87797342e+00,  4.16124897e+00],\n",
       "       [ 6.16526764e+00,  4.28966525e+00],\n",
       "       [-2.78019339e+00,  1.02053450e+01],\n",
       "       [ 8.30747381e+00, -5.07148696e+00],\n",
       "       [ 6.88265569e+00,  2.25049351e+00],\n",
       "       [ 2.97335797e+00, -4.03527281e+00],\n",
       "       [ 2.12444170e+00, -7.44903261e-01],\n",
       "       [ 1.82709575e+00, -1.88145042e+00],\n",
       "       [ 1.73463666e+00,  4.91913058e-01],\n",
       "       [ 2.52310643e+00,  3.22399729e+00],\n",
       "       [ 3.95709320e+00,  4.04490479e+00],\n",
       "       [ 2.46210381e+00,  2.70786386e+00],\n",
       "       [-6.23992468e+00, -1.87806256e+00],\n",
       "       [-6.48969709e+00, -2.05365045e+00],\n",
       "       [-6.17926662e+00, -1.63295721e+00],\n",
       "       [-5.84664667e+00, -1.36413753e+00],\n",
       "       [-5.93471314e+00, -1.40247789e+00],\n",
       "       [-6.01829228e+00, -8.58766624e-01],\n",
       "       [-5.84182741e+00, -7.47170779e-01],\n",
       "       [ 7.54446795e+00, -5.60698971e+00],\n",
       "       [ 7.45869526e+00, -6.20984833e+00],\n",
       "       [ 3.32447925e+00,  2.22331341e+00],\n",
       "       [ 2.26182893e+00,  2.12237367e+00],\n",
       "       [ 4.30908904e+00, -3.71707180e-01],\n",
       "       [ 6.67713089e+00,  2.12695793e+00],\n",
       "       [ 4.79834577e-01,  3.22815748e+00],\n",
       "       [ 2.87133643e+00, -2.47075991e-01],\n",
       "       [ 8.98844623e+00, -4.29837075e+00],\n",
       "       [ 5.46648614e+00, -6.54032323e+00],\n",
       "       [ 5.44454281e+00, -6.33275999e+00],\n",
       "       [ 8.07435143e+00, -5.20892414e+00],\n",
       "       [ 8.26145935e+00, -4.90379524e+00],\n",
       "       [ 4.31070688e+00, -7.39433838e+00],\n",
       "       [ 6.04542594e+00, -6.73754588e+00],\n",
       "       [ 4.73061417e+00, -7.45365949e+00],\n",
       "       [ 5.83283366e+00, -6.33228981e+00],\n",
       "       [ 5.53666827e+00, -7.39045905e+00],\n",
       "       [ 5.56263754e+00, -7.46092443e+00],\n",
       "       [ 3.34291933e+00, -7.56013819e+00],\n",
       "       [ 3.04383542e+00, -8.25169783e+00],\n",
       "       [ 2.94870176e+00, -7.69875305e+00],\n",
       "       [ 3.48895677e+00, -7.90140650e+00],\n",
       "       [-2.77426495e+00, -6.54896908e+00],\n",
       "       [ 8.58232291e+00,  1.30342405e+00],\n",
       "       [ 8.18538679e+00,  4.79558902e+00],\n",
       "       [-2.10713983e+00,  7.27951853e+00],\n",
       "       [-4.25815334e+00,  8.58381638e+00],\n",
       "       [ 4.45296125e+00,  4.13711974e+00],\n",
       "       [ 5.23980637e+00,  5.30936230e-01],\n",
       "       [-9.43437478e-01,  5.17778238e+00],\n",
       "       [-3.92816252e+00, -3.97179797e+00],\n",
       "       [-3.90025804e+00, -3.98308829e+00],\n",
       "       [-4.74270266e+00, -1.12485449e+00],\n",
       "       [-1.25940202e+00, -4.90730547e+00],\n",
       "       [ 3.68254328e+00, -4.78215845e+00],\n",
       "       [ 2.16864618e+00, -6.82184759e+00],\n",
       "       [ 5.14735010e+00, -5.54043349e+00],\n",
       "       [ 7.74662080e+00, -4.05217896e+00],\n",
       "       [ 7.88235561e+00, -4.00244401e+00],\n",
       "       [ 7.22252147e+00, -4.92742885e+00],\n",
       "       [ 8.12667947e-01, -2.81183715e-01],\n",
       "       [-2.28676467e+00,  9.16367997e+00],\n",
       "       [-2.27095766e+00,  9.21628479e+00],\n",
       "       [ 5.43172098e+00,  5.67807004e+00],\n",
       "       [-4.18892098e-01,  9.43426040e+00],\n",
       "       [-4.56120504e+00, -2.59639045e+00],\n",
       "       [-1.92351315e+00, -1.41115311e+00],\n",
       "       [ 1.30352963e+00, -6.44740643e+00],\n",
       "       [-4.64968714e+00, -2.13477427e+00],\n",
       "       [-4.23027278e+00, -2.39659356e+00],\n",
       "       [-4.64742628e+00, -2.24067824e+00],\n",
       "       [-3.87987873e+00, -2.02963140e+00],\n",
       "       [-4.03648433e+00, -1.75165476e+00],\n",
       "       [-3.93085575e+00, -1.02534752e+00],\n",
       "       [-2.38600400e+00, -3.18231273e+00],\n",
       "       [-4.23912832e+00, -2.19099077e+00],\n",
       "       [-3.43250379e+00, -1.98656271e+00],\n",
       "       [-3.73628154e+00, -1.94718111e+00],\n",
       "       [-5.50474683e-01, -5.55031943e+00],\n",
       "       [-1.28338468e+00, -5.22481496e+00],\n",
       "       [-4.52445017e+00, -1.65362292e+00],\n",
       "       [-3.83008832e+00,  7.37458159e+00],\n",
       "       [-2.94457402e+00,  9.31960804e+00],\n",
       "       [ 5.90443674e+00,  3.33267064e+00],\n",
       "       [ 5.21636428e+00,  1.37561432e+00],\n",
       "       [ 9.05775684e-01, -3.67607302e+00],\n",
       "       [-3.25806667e+00, -2.09268906e+00],\n",
       "       [ 4.30413257e+00,  2.71438033e+00],\n",
       "       [ 3.24147800e+00,  2.43465120e+00],\n",
       "       [ 5.65418749e+00,  3.65628599e+00],\n",
       "       [ 7.15109933e+00,  5.15846116e+00],\n",
       "       [ 7.35946679e+00,  4.02141879e+00],\n",
       "       [ 6.75965605e+00,  3.74472863e+00],\n",
       "       [ 4.12638562e+00, -1.77048062e-01],\n",
       "       [ 6.31729020e+00,  4.25097356e+00],\n",
       "       [-3.94593316e+00, -2.30910702e+00],\n",
       "       [-3.81798751e+00, -1.58864158e+00],\n",
       "       [-4.15963854e+00, -1.95575663e+00],\n",
       "       [-4.13809307e+00, -1.84095190e+00],\n",
       "       [-4.21092681e+00, -1.93114044e+00],\n",
       "       [-4.55545896e+00, -1.63183867e+00],\n",
       "       [ 4.43627122e+00,  2.64427502e+00],\n",
       "       [ 7.27024755e+00,  3.19533076e+00],\n",
       "       [ 7.24414942e+00,  4.40745605e+00],\n",
       "       [ 2.83361889e+00, -1.12673000e+00],\n",
       "       [-1.70794170e-01, -5.07962513e-01],\n",
       "       [ 4.59998721e+00,  7.73281349e-01],\n",
       "       [ 6.47373136e+00,  2.91836885e+00],\n",
       "       [-1.39216319e+00, -9.94586017e-01],\n",
       "       [ 7.00939508e+00,  4.67004500e+00],\n",
       "       [ 4.06658043e+00,  2.87174514e+00],\n",
       "       [-1.94885279e+00, -1.14092199e-02],\n",
       "       [ 6.15274684e+00,  2.64929222e+00],\n",
       "       [ 1.46253854e-02, -5.33618978e-03],\n",
       "       [ 5.34651062e+00,  2.69668838e+00],\n",
       "       [-1.97996785e-01,  3.04819079e-01],\n",
       "       [-2.73287279e+00, -3.96542890e+00],\n",
       "       [ 1.87680905e+00, -5.78218320e+00],\n",
       "       [-1.41367323e+00,  1.36004342e+00],\n",
       "       [-1.57029527e+00,  3.99692259e-01],\n",
       "       [-2.49951448e+00, -5.48817378e-02],\n",
       "       [ 4.54830873e+00,  3.34457106e+00],\n",
       "       [-3.65219918e+00, -2.77432350e+00],\n",
       "       [ 2.24148821e+00, -3.49375080e+00],\n",
       "       [ 1.46823887e-01,  1.06317257e+00],\n",
       "       [ 4.76576178e+00, -6.19739702e+00],\n",
       "       [ 4.61176467e+00,  4.18871841e+00],\n",
       "       [ 5.33464335e+00,  2.79307598e+00],\n",
       "       [ 2.20710300e-01, -8.30061573e-01],\n",
       "       [ 4.38716836e+00,  2.06735297e+00],\n",
       "       [ 7.97824591e-01,  2.40895355e-01],\n",
       "       [-2.93722590e+00,  1.91563542e-01],\n",
       "       [ 7.39152884e+00,  4.80768665e+00],\n",
       "       [ 4.99554678e+00, -3.22209127e+00],\n",
       "       [ 5.33700191e+00,  4.19112862e+00],\n",
       "       [ 6.62623043e+00,  5.88663351e+00],\n",
       "       [ 1.90387692e+00,  1.31434298e+00],\n",
       "       [-1.41112352e+00, -3.07321259e-01],\n",
       "       [-6.57544586e+00, -4.38905749e-01],\n",
       "       [-2.01189859e+00, -1.39090246e+00],\n",
       "       [ 7.69768012e-02, -1.00069833e+00],\n",
       "       [ 7.69768012e-02, -1.00069833e+00],\n",
       "       [-1.82863170e-01,  1.22123806e-01],\n",
       "       [-5.20048848e-01, -2.43176960e-01],\n",
       "       [ 1.30437274e-02,  4.28842019e-01],\n",
       "       [ 7.68383201e+00, -3.79061292e+00],\n",
       "       [-1.16121668e+00, -3.38622609e+00],\n",
       "       [-2.36288515e+00, -6.19462307e+00],\n",
       "       [-2.83765981e+00, -6.89717760e-01],\n",
       "       [ 3.09697882e+00,  2.01337000e+00],\n",
       "       [ 8.55545606e+00, -4.11249785e+00],\n",
       "       [ 8.53303891e+00,  4.89871028e-01],\n",
       "       [ 6.53702623e-01,  6.62867802e-01],\n",
       "       [ 7.63140516e-01, -3.74928909e-01],\n",
       "       [ 5.85772279e+00,  3.03224906e+00],\n",
       "       [-5.29759594e+00, -3.67134539e+00],\n",
       "       [-3.67898332e+00, -7.29781100e+00],\n",
       "       [-7.12461617e+00, -3.02067169e+00],\n",
       "       [-6.98668416e+00, -2.99177881e+00],\n",
       "       [-6.95832961e+00, -2.89369303e+00],\n",
       "       [-6.86736228e+00, -3.07068587e+00],\n",
       "       [-5.44698434e+00, -3.05136569e+00],\n",
       "       [-3.97079269e+00, -4.72268299e+00],\n",
       "       [-6.66007015e+00, -1.65230208e+00],\n",
       "       [-7.23843772e+00, -3.17739069e+00],\n",
       "       [-5.70009247e+00, -3.29951319e+00],\n",
       "       [-8.00350376e+00, -2.79693372e+00],\n",
       "       [-7.66464169e+00, -4.38195067e+00],\n",
       "       [-1.05354518e+00, -9.12581185e+00],\n",
       "       [-3.06560583e+00, -6.39390799e+00],\n",
       "       [ 6.57014998e+00, -6.65222061e+00],\n",
       "       [ 6.91902085e+00, -5.54855286e+00],\n",
       "       [ 7.17174753e+00, -5.27192256e+00],\n",
       "       [ 7.77586131e+00, -4.86816806e+00],\n",
       "       [-4.12212022e+00, -3.81199276e+00],\n",
       "       [-5.67228979e+00, -1.25856973e+00],\n",
       "       [-2.73277505e+00,  9.93243041e+00],\n",
       "       [-2.92523735e+00,  9.61521303e+00],\n",
       "       [-8.44926691e+00, -3.77957274e+00],\n",
       "       [ 6.67868210e+00,  6.22652762e+00],\n",
       "       [ 1.11761291e+00,  2.86913906e+00],\n",
       "       [-7.60070368e+00, -3.07308784e+00],\n",
       "       [-9.93266567e+00, -3.53344059e+00],\n",
       "       [-7.06247652e+00, -1.24602101e+00],\n",
       "       [-8.48791958e+00, -2.20525954e+00],\n",
       "       [-2.33532470e+00, -2.10872723e+00],\n",
       "       [ 1.47327735e+00,  1.26670196e+01],\n",
       "       [ 1.47327735e+00,  1.26670196e+01],\n",
       "       [-3.58820944e+00, -7.74259488e+00],\n",
       "       [-3.38332223e+00, -7.51665374e+00],\n",
       "       [-2.73903731e+00, -7.77706799e+00],\n",
       "       [-3.96785388e+00, -7.04328285e+00],\n",
       "       [-1.01450466e+00, -4.22980382e+00],\n",
       "       [-3.81531193e+00, -7.24956835e+00],\n",
       "       [-5.53455413e+00, -3.63336289e+00],\n",
       "       [-3.43793899e+00, -7.40289718e+00],\n",
       "       [ 8.12667947e-01, -2.81183715e-01],\n",
       "       [-5.34263311e+00, -7.56097087e+00],\n",
       "       [-5.97997589e+00, -8.34435794e+00],\n",
       "       [-8.13626566e+00, -4.71723783e+00],\n",
       "       [-7.74856637e+00, -4.83474753e+00],\n",
       "       [-1.13425174e+00, -7.50828415e+00],\n",
       "       [-2.55063710e+00, -1.33279598e+00],\n",
       "       [-8.05895411e+00, -3.85872725e+00],\n",
       "       [-8.14748720e+00, -4.12738828e+00],\n",
       "       [-7.95435574e+00, -3.67447163e+00]])"
      ]
     },
     "execution_count": 16,
     "metadata": {},
     "output_type": "execute_result"
    }
   ],
   "source": [
    "pca = X_zero_mean.dot(eigenvector[:,:2])\n",
    "pca"
   ]
  },
  {
   "cell_type": "code",
   "execution_count": 17,
   "metadata": {},
   "outputs": [
    {
     "data": {
      "text/plain": [
       "(271, 2)"
      ]
     },
     "execution_count": 17,
     "metadata": {},
     "output_type": "execute_result"
    }
   ],
   "source": [
    "pca.shape"
   ]
  },
  {
   "cell_type": "code",
   "execution_count": 18,
   "metadata": {},
   "outputs": [
    {
     "data": {
      "text/plain": [
       "<matplotlib.axes._subplots.AxesSubplot at 0x279f6417688>"
      ]
     },
     "execution_count": 18,
     "metadata": {},
     "output_type": "execute_result"
    },
    {
     "data": {
      "image/png": "[encoded data removed]",
      "text/plain": [
       "<Figure size 432x288 with 2 Axes>"
      ]
     },
     "metadata": {
      "needs_background": "light"
     },
     "output_type": "display_data"
    }
   ],
   "source": [
    "sns.heatmap(pca ,  annot=False)"
   ]
  },
  {
   "cell_type": "code",
   "execution_count": null,
   "metadata": {},
   "outputs": [],
   "source": []
  }
 ],
 "metadata": {
  "kernelspec": {
   "display_name": "Python 3",
   "language": "python",
   "name": "python3"
  },
  "language_info": {
   "codemirror_mode": {
    "name": "ipython",
    "version": 3
   },
   "file_extension": ".py",
   "mimetype": "text/x-python",
   "name": "python",
   "nbconvert_exporter": "python",
   "pygments_lexer": "ipython3",
   "version": "3.7.4"
  }
 },
 "nbformat": 4,
 "nbformat_minor": 2
}
